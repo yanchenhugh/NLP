{
 "cells": [
  {
   "cell_type": "code",
   "execution_count": 3,
   "id": "45168aaa-5360-4e3c-bf30-80274b62a261",
   "metadata": {},
   "outputs": [
    {
     "name": "stderr",
     "output_type": "stream",
     "text": [
      "[nltk_data] Downloading package stopwords to\n",
      "[nltk_data]     C:\\Users\\hychy\\AppData\\Roaming\\nltk_data...\n",
      "[nltk_data]   Unzipping corpora\\stopwords.zip.\n",
      "[nltk_data] Downloading package punkt to\n",
      "[nltk_data]     C:\\Users\\hychy\\AppData\\Roaming\\nltk_data...\n",
      "[nltk_data]   Package punkt is already up-to-date!\n",
      "[nltk_data] Downloading package wordnet to\n",
      "[nltk_data]     C:\\Users\\hychy\\AppData\\Roaming\\nltk_data...\n",
      "[nltk_data]   Package wordnet is already up-to-date!\n"
     ]
    }
   ],
   "source": [
    "import os,re,nltk\n",
    "\n",
    "nltk.data.path.append(os.path.join(os.getcwd(), \"nltk_data\"))\n",
    "\n",
    "from nltk.tokenize import textTokenizer, word_tokenize\n",
    "from nltk.corpus import stopwords\n",
    "from nltk.stem.porter import PorterStemmer\n",
    "\n",
    "nltk.download(\"stopwords\")\n",
    "nltk.download('punkt')\n",
    "nltk.download('wordnet')\n",
    "from nltk.stem.wordnet import WordNetLemmatizer\n",
    "\n",
    "def lemmatize_text(all_texts):\n",
    "    # use Porter stemmer\n",
    "    # preprocessing: normalize, remove punctuations and stop words\n",
    "    # input: list of sentences\n",
    "    # output: list of processed sentences\n",
    "    stopwds = stopwords.words('english')\n",
    "    stmr = PorterStemmer()\n",
    "    all_texts_2 = []\n",
    "    for text in all_texts:\n",
    "        txt = text.lower() # convert to lower case\n",
    "        txt = word_tokenize(txt) # tokenize\n",
    "        txt2 = [tx for tx in txt if re.match(r'[^a-zA-Z0-9]', tx) == None ] # remove punctuations \n",
    "        txt2 = [stmr.stem(tx) for tx in txt2 if tx not in stopwds ] # remove stop words and stemming\n",
    "        all_texts_2.append(txt2)\n",
    "    return all_texts_2\n",
    "\n",
    "def stem_text(all_texts, pos='n'):\n",
    "    # use general lemmetization\n",
    "    # preprocessing: normalize, remove punctuations and stop words\n",
    "    # input: \n",
    "    ## all_texts: list of sentences to be processed\n",
    "    ## pos: class of the word to be lemmatized, default 'n'\n",
    "    # output: list of processed sentences\n",
    "    stopwds = stopwords.words('english')\n",
    "    lmtz = WordNetLemmatizer()\n",
    "    all_texts_2 = []\n",
    "    for text in all_texts:\n",
    "        txt = text.lower() # convert to lower case\n",
    "        txt = word_tokenize(txt) # tokenize\n",
    "        txt2 = [tx for tx in txt if re.match(r'[^a-zA-Z0-9]', tx) == None ] # remove punctuations \n",
    "        txt2 = [lmtz.lemmatize(tx, pos) for tx in txt2 if tx not in stopwds ] # remove stop words and stemming\n",
    "        all_texts_2.append(txt2)\n",
    "    return all_texts_2"
   ]
  },
  {
   "cell_type": "code",
   "execution_count": null,
   "id": "70a65b69-2173-470e-9e4c-747cdac02e52",
   "metadata": {},
   "outputs": [],
   "source": []
  }
 ],
 "metadata": {
  "kernelspec": {
   "display_name": "Python 3 (ipykernel)",
   "language": "python",
   "name": "python3"
  },
  "language_info": {
   "codemirror_mode": {
    "name": "ipython",
    "version": 3
   },
   "file_extension": ".py",
   "mimetype": "text/x-python",
   "name": "python",
   "nbconvert_exporter": "python",
   "pygments_lexer": "ipython3",
   "version": "3.12.4"
  }
 },
 "nbformat": 4,
 "nbformat_minor": 5
}
