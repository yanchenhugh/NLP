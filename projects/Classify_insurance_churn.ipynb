{
 "cells": [
  {
   "cell_type": "code",
   "execution_count": 196,
   "id": "5ebd8fb6-a1c0-4470-b10b-1ded96344790",
   "metadata": {},
   "outputs": [
    {
     "name": "stdout",
     "output_type": "stream",
     "text": [
      "insurance churn data: 0 duplicate values for individual ids\n",
      "address data: 0 duplicate values for address ids\n",
      "customer data: 0 duplicate values for individual ids\n",
      "demographic data: 0 duplicate values for individual ids\n",
      "termination data: 0 duplicate values for individual ids\n"
     ]
    }
   ],
   "source": [
    "import numpy as np\n",
    "import pandas as pd\n",
    "import scipy as sp\n",
    "\n",
    "datapath = '../data/insurance_churn/'\n",
    "\n",
    "churn_data = pd.read_csv(datapath + \"autoinsurance_churn.csv\")\n",
    "churn_data.columns = [x.lower() for x in churn_data.columns]\n",
    "print(f\"insurance churn data: {np.sum(churn_data['individual_id'].duplicated == True)} duplicate values for individual ids\")\n",
    "\n",
    "geo_data = pd.read_csv(datapath + \"address.csv\")\n",
    "geo_data.columns = [x.lower() for x in geo_data.columns]\n",
    "print(f\"address data: {np.sum(geo_data['address_id'].duplicated == True)} duplicate values for address ids\")\n",
    "\n",
    "custom_data = pd.read_csv(datapath + \"customer.csv\")\n",
    "custom_data.columns = [x.lower() for x in custom_data.columns]\n",
    "print(f\"customer data: {np.sum(custom_data['individual_id'].duplicated == True)} duplicate values for individual ids\")\n",
    "\n",
    "demo_data = pd.read_csv(datapath + \"demographic.csv\")\n",
    "demo_data.columns = [x.lower() for x in demo_data.columns]\n",
    "print(f\"demographic data: {np.sum(demo_data['individual_id'].duplicated == True)} duplicate values for individual ids\")\n",
    "\n",
    "term_data = pd.read_csv(datapath + \"termination.csv\")\n",
    "term_data.columns = [x.lower() for x in term_data.columns]\n",
    "print(f\"termination data: {np.sum(term_data['individual_id'].duplicated == True)} duplicate values for individual ids\")"
   ]
  },
  {
   "cell_type": "code",
   "execution_count": 197,
   "id": "a7acf735-d6ee-4f96-b54e-7a7090d73e39",
   "metadata": {},
   "outputs": [],
   "source": [
    "## First, fill as many nan's as possible\n",
    "\n",
    "def intersect_list(ls1, ls2):\n",
    "    int_vals = [x for x in ls1 if x in ls2]\n",
    "    int_1 = [id for id in range(len(ls1)) if ls1[id] in ls2]\n",
    "    int_2 = []\n",
    "    for x in int_vals:\n",
    "        int_2.append([id for id, val in enumerate(ls2==x) if val==True])\n",
    "    return int_vals, int_1, int_2\n",
    "\n",
    "def intersect_array(ar1, ar2):\n",
    "    indx_12 = np.isin(ar1, ar2)\n",
    "    int_vals = ar1[indx_12]\n",
    "    all_indx_1 = np.arange(len(ar1))\n",
    "    int_1 = all_indx_1[indx_12]\n",
    "    int_2 = np.array([np.argwhere(ar2 == ar1[x]) for x in int_1])\n",
    "\n",
    "def fillnas(df_1, df_2):\n",
    "    # make sure the first column in df1 has no na's or no duplicates\n",
    "    cln, junk1, junk2 = intersect_list(df_1.columns, df_2.columns)\n",
    "    df1 = df_1[cln]\n",
    "    df2 = df_2[cln]\n",
    "    ids1 = df1[cln[0]].to_numpy()\n",
    "    ids2 = df2[cln[0]].to_numpy()\n",
    "    \n",
    "    rowids1_na = np.arange(len(ids1))[df1.isna().any(axis=1)]\n",
    "    ids1_na = ids1[rowids1_na]\n",
    "    print(f\"{len(rowids1_na)} rows have na's\")\n",
    "    df1_na = df1.iloc[rowids1_na]\n",
    "    \n",
    "    rowids12_na = []\n",
    "    for ii in rowids1_na:\n",
    "        idx = np.argwhere(ids2 == ids1[ii])\n",
    "        if len(idx) > 0:\n",
    "            rowids12_na.append(np.argwhere(ids2 == ids1[ii])[0,0])\n",
    "        if ii//5000 == ii/5000:\n",
    "            print(f\"{ii}/{np.max(rowids1_na)}\")\n",
    "    df2_patch = df2.iloc[rowids12_na]\n",
    "    \n",
    "    for cname in cln[1:]:\n",
    "        isna_2 = df2_patch[cname].notna().to_numpy()\n",
    "        df1_na.loc[isna_2, cname] = df2_patch.loc[isna_2, cname].values\n",
    "    \n",
    "    df1.iloc[rowids1_na] = df1_na\n",
    "    df_1[cln] = df1\n",
    "    \n",
    "    return df_1"
   ]
  },
  {
   "cell_type": "code",
   "execution_count": 198,
   "id": "43ae9bbc-0d20-408f-87d0-1304626e6acf",
   "metadata": {},
   "outputs": [
    {
     "name": "stdout",
     "output_type": "stream",
     "text": [
      "3 rows have na's\n"
     ]
    },
    {
     "data": {
      "text/html": [
       "<div>\n",
       "<style scoped>\n",
       "    .dataframe tbody tr th:only-of-type {\n",
       "        vertical-align: middle;\n",
       "    }\n",
       "\n",
       "    .dataframe tbody tr th {\n",
       "        vertical-align: top;\n",
       "    }\n",
       "\n",
       "    .dataframe thead th {\n",
       "        text-align: right;\n",
       "    }\n",
       "</style>\n",
       "<table border=\"1\" class=\"dataframe\">\n",
       "  <thead>\n",
       "    <tr style=\"text-align: right;\">\n",
       "      <th></th>\n",
       "      <th>id</th>\n",
       "      <th>a</th>\n",
       "      <th>b</th>\n",
       "      <th>c</th>\n",
       "    </tr>\n",
       "  </thead>\n",
       "  <tbody>\n",
       "    <tr>\n",
       "      <th>0</th>\n",
       "      <td>1</td>\n",
       "      <td>1.0</td>\n",
       "      <td>8.0</td>\n",
       "      <td>1.0</td>\n",
       "    </tr>\n",
       "    <tr>\n",
       "      <th>1</th>\n",
       "      <td>3</td>\n",
       "      <td>2.0</td>\n",
       "      <td>6.0</td>\n",
       "      <td>NaN</td>\n",
       "    </tr>\n",
       "    <tr>\n",
       "      <th>2</th>\n",
       "      <td>5</td>\n",
       "      <td>3.0</td>\n",
       "      <td>NaN</td>\n",
       "      <td>5.0</td>\n",
       "    </tr>\n",
       "    <tr>\n",
       "      <th>3</th>\n",
       "      <td>7</td>\n",
       "      <td>5.0</td>\n",
       "      <td>9.0</td>\n",
       "      <td>8.0</td>\n",
       "    </tr>\n",
       "    <tr>\n",
       "      <th>4</th>\n",
       "      <td>9</td>\n",
       "      <td>6.0</td>\n",
       "      <td>5.0</td>\n",
       "      <td>3.0</td>\n",
       "    </tr>\n",
       "  </tbody>\n",
       "</table>\n",
       "</div>"
      ],
      "text/plain": [
       "   id    a    b    c\n",
       "0   1  1.0  8.0  1.0\n",
       "1   3  2.0  6.0  NaN\n",
       "2   5  3.0  NaN  5.0\n",
       "3   7  5.0  9.0  8.0\n",
       "4   9  6.0  5.0  3.0"
      ]
     },
     "execution_count": 198,
     "metadata": {},
     "output_type": "execute_result"
    }
   ],
   "source": [
    "## Test the implementation\n",
    "p = pd.DataFrame({'id': [1,3,5,7,9], 'a': [1,2,3,np.nan,6], 'b': [8,6,np.nan,9,np.nan], 'c': [1,np.nan,5,8,3]})\n",
    "q = pd.DataFrame({'id': [1,3,5,7,9], 'a': [1,2,3,5,6], 'b': [np.nan,6,np.nan,9,5]})\n",
    "pq = fillnas(p, q)\n",
    "pq"
   ]
  },
  {
   "cell_type": "code",
   "execution_count": 199,
   "id": "750be948-3438-4ece-aab6-ccad493a979d",
   "metadata": {},
   "outputs": [
    {
     "name": "stdout",
     "output_type": "stream",
     "text": [
      "264175 rows have na's\n",
      "15000/1680885\n",
      "50000/1680885\n",
      "60000/1680885\n",
      "75000/1680885\n",
      "80000/1680885\n",
      "110000/1680885\n",
      "180000/1680885\n",
      "190000/1680885\n",
      "195000/1680885\n",
      "200000/1680885\n",
      "210000/1680885\n",
      "235000/1680885\n",
      "265000/1680885\n",
      "305000/1680885\n",
      "315000/1680885\n",
      "335000/1680885\n",
      "385000/1680885\n",
      "535000/1680885\n",
      "555000/1680885\n",
      "560000/1680885\n",
      "605000/1680885\n",
      "625000/1680885\n",
      "685000/1680885\n",
      "695000/1680885\n",
      "725000/1680885\n",
      "740000/1680885\n",
      "745000/1680885\n",
      "770000/1680885\n",
      "830000/1680885\n",
      "865000/1680885\n",
      "895000/1680885\n",
      "930000/1680885\n",
      "945000/1680885\n",
      "950000/1680885\n",
      "985000/1680885\n",
      "990000/1680885\n",
      "995000/1680885\n",
      "1040000/1680885\n",
      "1065000/1680885\n",
      "1080000/1680885\n",
      "1105000/1680885\n",
      "1115000/1680885\n",
      "1120000/1680885\n",
      "1125000/1680885\n",
      "1135000/1680885\n",
      "1180000/1680885\n",
      "1245000/1680885\n",
      "1280000/1680885\n",
      "1300000/1680885\n",
      "1350000/1680885\n",
      "1385000/1680885\n",
      "1395000/1680885\n",
      "1415000/1680885\n",
      "1455000/1680885\n",
      "1460000/1680885\n",
      "1470000/1680885\n",
      "1530000/1680885\n",
      "1565000/1680885\n",
      "1570000/1680885\n",
      "1600000/1680885\n",
      "1610000/1680885\n",
      "1625000/1680885\n",
      "1660000/1680885\n",
      "1670000/1680885\n",
      "0 na values are filled by geography data\n",
      "0 rows have na's\n",
      "0 na values are filled by customer data\n",
      "92286 rows have na's\n",
      "195000/1680866\n",
      "235000/1680866\n",
      "265000/1680866\n",
      "315000/1680866\n",
      "535000/1680866\n",
      "605000/1680866\n",
      "685000/1680866\n",
      "740000/1680866\n",
      "770000/1680866\n",
      "930000/1680866\n",
      "995000/1680866\n",
      "1065000/1680866\n",
      "1290000/1680866\n",
      "1430000/1680866\n",
      "1470000/1680866\n",
      "1600000/1680866\n",
      "1660000/1680866\n",
      "0 na values are filled by demographic data\n"
     ]
    }
   ],
   "source": [
    "## data purge & exploration\n",
    "na_b4 = churn_data.isna().sum(axis=1).sum()\n",
    "churn_data = fillnas(churn_data, geo_data)\n",
    "na_after = churn_data.isna().sum(axis=1).sum()\n",
    "print(f\"{na_b4-na_after} na values are filled by geography data\")\n",
    "\n",
    "na_b4 = na_after\n",
    "churn_data = fillnas(churn_data, custom_data)\n",
    "na_after = churn_data.isna().sum(axis=1).sum()\n",
    "print(f\"{na_b4-na_after} na values are filled by customer data\")\n",
    "\n",
    "na_b4 = na_after\n",
    "churn_data = fillnas(churn_data, demo_data)\n",
    "na_after = churn_data.isna().sum(axis=1).sum()\n",
    "print(f\"{na_b4-na_after} na values are filled by demographic data\")"
   ]
  },
  {
   "cell_type": "code",
   "execution_count": 200,
   "id": "7fbb856b-2ace-4168-bad2-376517a351d8",
   "metadata": {},
   "outputs": [
    {
     "name": "stdout",
     "output_type": "stream",
     "text": [
      "269259 249265\n",
      "55809\n",
      "(55809, 16) 55809\n",
      "   individual_id curr_ann_amt days_tenure cust_orig_date age_in_years  \\\n",
      "0   2.213000e+11   818.877997      1454.0     2018-12-09           44   \n",
      "1   2.213001e+11   974.199182      1795.0     2018-01-02           72   \n",
      "2   2.213007e+11   967.375112      4818.0     2009-09-23           55   \n",
      "3   2.213016e+11   992.409561       130.0     2022-07-25           53   \n",
      "4   2.213016e+11   784.633494      5896.0     2006-10-11           50   \n",
      "\n",
      "  date_of_birth    income has_children length_of_residence marital_status  \\\n",
      "0    1978-06-23   22500.0          1.0                15.0        Married   \n",
      "1    1950-05-30   27500.0          0.0                 2.0         Single   \n",
      "2    1967-07-07   42500.0          0.0                10.0        Married   \n",
      "3    1969-05-25  125000.0          1.0                 6.0        Married   \n",
      "4    1972-09-25   87500.0          1.0                 4.0        Married   \n",
      "\n",
      "  home_market_value home_owner college_degree good_credit acct_suspd_date  \\\n",
      "0     50000 - 74999        1.0            1.0         1.0             NaN   \n",
      "1     50000 - 74999        1.0            0.0         0.0             NaN   \n",
      "2     75000 - 99999        1.0            0.0         0.0             NaN   \n",
      "3   175000 - 199999        1.0            0.0         1.0      2021-12-22   \n",
      "4   225000 - 249999        1.0            1.0         1.0             NaN   \n",
      "\n",
      "   churn  \n",
      "0      0  \n",
      "1      0  \n",
      "2      0  \n",
      "3      1  \n",
      "4      0  \n"
     ]
    }
   ],
   "source": [
    "# OK anyway, find missing data, some churn customers' data are not in the churn_data\n",
    "# need to append the missing data\n",
    "print( np.intersect1d(term_data['individual_id'].to_numpy(), custom_data['individual_id'].to_numpy()).shape[0], \n",
    "       np.intersect1d(term_data['individual_id'].to_numpy(), demo_data['individual_id'].to_numpy()).shape[0] )\n",
    "\n",
    "# First, drop the geo data\n",
    "churn_data_nogeo = churn_data.drop(['address_id','latitude','longitude','city','state','county'], axis=1)\n",
    "#print(churn_data_nogeo.dtypes)\n",
    "\n",
    "missing_ids = term_data['individual_id'][np.isin(term_data['individual_id'], churn_data['individual_id'], invert=True)].to_numpy()\n",
    "churn_demo_columns = np.intersect1d(np.array(churn_data_nogeo.columns), np.array(demo_data.columns))\n",
    "churn_custom_columns = np.intersect1d(np.array(churn_data_nogeo.columns), np.array(custom_data.columns))\n",
    "churn_term_columns = np.intersect1d(np.array(churn_data_nogeo.columns), np.array(term_data.columns))\n",
    "churn_demo_columns = np.delete(churn_demo_columns, churn_demo_columns=='individual_id')\n",
    "churn_custom_columns = np.delete(churn_custom_columns, churn_custom_columns=='individual_id')\n",
    "churn_term_columns = np.delete(churn_term_columns, churn_term_columns=='individual_id')\n",
    "\n",
    "added_ids = np.intersect1d(np.intersect1d(missing_ids, custom_data['individual_id'].to_numpy()), demo_data['individual_id'].to_numpy())\n",
    "print(added_ids.size)\n",
    "\n",
    "df_add = pd.DataFrame({'individual_id': added_ids})\n",
    "added = demo_data[churn_demo_columns].loc[demo_data['individual_id'].isin(added_ids)]\n",
    "for ii in range(added.shape[1]):\n",
    "    df_add.insert(len(df_add.columns), added.columns[ii], added.values[:,ii])\n",
    "added = custom_data[churn_custom_columns].loc[custom_data['individual_id'].isin(added_ids)]\n",
    "for ii in range(added.shape[1]):\n",
    "    df_add.insert(len(df_add.columns), added.columns[ii], added.values[:,ii])\n",
    "added = term_data[churn_term_columns].loc[term_data['individual_id'].isin(added_ids)]\n",
    "for ii in range(added.shape[1]):\n",
    "    df_add.insert(len(df_add.columns), added.columns[ii], added.values[:,ii])\n",
    "df_add.insert(len(df_add.columns), 'churn', 1)\n",
    "print(df_add.shape, added_ids.size)  \n",
    "\n",
    "churn_data_nogeo_allchurn = pd.concat([churn_data_nogeo, df_add], ignore_index=True)\n",
    "print(churn_data_nogeo_allchurn.head(5))"
   ]
  },
  {
   "cell_type": "code",
   "execution_count": 201,
   "id": "cc86476e-5cd8-4f1e-92af-ed58dad189eb",
   "metadata": {},
   "outputs": [
    {
     "name": "stdout",
     "output_type": "stream",
     "text": [
      "375837 ids to be added.\n",
      "(375837, 9)\n",
      "(375837, 14)\n",
      "(375837, 16) (1736718, 16)\n"
     ]
    }
   ],
   "source": [
    "## OK, some unchurned customers are missing, let's add it\n",
    "missing_ids = demo_data['individual_id'].loc[demo_data['individual_id'].isin(custom_data['individual_id'])].to_numpy()\n",
    "added_ids = missing_ids[np.isin(missing_ids, churn_data_nogeo_allchurn['individual_id'], invert=True)]\n",
    "print(f\"{added_ids.shape[0]} ids to be added.\")\n",
    "\n",
    "df_added = pd.DataFrame({'individual_id': added_ids})\n",
    "added = demo_data[churn_demo_columns].loc[demo_data['individual_id'].isin(added_ids)]\n",
    "for cln in churn_demo_columns:\n",
    "    df_added.insert(df_added.shape[1], cln, added[cln])\n",
    "print(df_added.shape)\n",
    "\n",
    "added = custom_data[churn_custom_columns].loc[custom_data['individual_id'].isin(added_ids)]\n",
    "for cln in churn_custom_columns:\n",
    "    df_added.insert(df_added.shape[1], cln, added[cln])\n",
    "print(df_added.shape)\n",
    "\n",
    "df_added.insert(df_added.shape[1], 'acct_suspd_date', np.nan)\n",
    "df_added.insert(df_added.shape[1], 'churn', 0)\n",
    "print(df_added.shape, churn_data_nogeo_allchurn.shape)\n",
    "\n",
    "split_point_2 = churn_data_nogeo_allchurn.shape[0]\n",
    "\n",
    "churn_data_nogeo_all = pd.concat([churn_data_nogeo_allchurn, df_added], ignore_index=True)"
   ]
  },
  {
   "cell_type": "code",
   "execution_count": 202,
   "id": "ef34f856-054e-442c-8393-af54da08e068",
   "metadata": {},
   "outputs": [
    {
     "name": "stdout",
     "output_type": "stream",
     "text": [
      "Totally 2112555 customers\n",
      "249265 customers churned\n",
      "1931195 customers have missing data\n"
     ]
    }
   ],
   "source": [
    "print(f\"Totally {churn_data_nogeo_all.shape[0]} customers\")\n",
    "print(f\"{churn_data_nogeo_all['churn'].sum()} customers churned\")\n",
    "print(f\"{np.arange(churn_data_nogeo_all.shape[0])[churn_data_nogeo_all.isna().sum(axis=1) > 0].size} customers have missing data\")"
   ]
  },
  {
   "cell_type": "code",
   "execution_count": 203,
   "id": "498bd5c6-80a7-465d-a295-1aaa1019ee1f",
   "metadata": {},
   "outputs": [
    {
     "name": "stdout",
     "output_type": "stream",
     "text": [
      "523932 customers have missing data\n",
      "  curr_ann_amt days_tenure cust_orig_date age_in_years date_of_birth  \\\n",
      "0   818.877997      1454.0     2018-12-09           44    1978-06-23   \n",
      "1   974.199182      1795.0     2018-01-02           72    1950-05-30   \n",
      "2   967.375112      4818.0     2009-09-23           55    1967-07-07   \n",
      "3   992.409561       130.0     2022-07-25           53    1969-05-25   \n",
      "4   784.633494      5896.0     2006-10-11           50    1972-09-25   \n",
      "\n",
      "     income has_children length_of_residence marital_status home_market_value  \\\n",
      "0   22500.0          1.0                15.0        Married     50000 - 74999   \n",
      "1   27500.0          0.0                 2.0         Single     50000 - 74999   \n",
      "2   42500.0          0.0                10.0        Married     75000 - 99999   \n",
      "3  125000.0          1.0                 6.0        Married   175000 - 199999   \n",
      "4   87500.0          1.0                 4.0        Married   225000 - 249999   \n",
      "\n",
      "  home_owner college_degree good_credit acct_suspd_date  churn  \n",
      "0        1.0            1.0         1.0      2022-12-02      0  \n",
      "1        1.0            0.0         0.0      2022-12-02      0  \n",
      "2        1.0            0.0         0.0      2022-12-02      0  \n",
      "3        1.0            0.0         1.0      2021-12-22      1  \n",
      "4        1.0            1.0         1.0      2022-12-02      0  \n"
     ]
    }
   ],
   "source": [
    "## Check whether 'cust_orig_date' + 'days_tenure' = 'acct_suspd_date' or 'today' if no churn\n",
    "churn_data_nogeo_all = pd.concat([churn_data_nogeo_allchurn, df_added], ignore_index=True)\n",
    "\n",
    "from datetime import datetime, timedelta\n",
    "idx = 0\n",
    "Begindate = datetime.strptime(churn_data_nogeo_all['cust_orig_date'][idx], \"%Y-%m-%d\") \n",
    "Enddate = Begindate + timedelta(days=churn_data_nogeo_all['days_tenure'][idx])\n",
    "#Suspdate = datetime.strptime(churn_data_nogeo_all['acct_suspd_date'][idx], \"%Y-%m-%d\") \n",
    "\n",
    "today = Enddate.date()\n",
    "\n",
    "churn_data_nogeo_all['acct_suspd_date'] = churn_data_nogeo_all['acct_suspd_date'].fillna(str(today))\n",
    "print(f\"{np.arange(churn_data_nogeo_all.shape[0])[churn_data_nogeo_all.isna().sum(axis=1) > 0].size} customers have missing data\")\n",
    "\n",
    "df_churn = churn_data_nogeo_all.drop('individual_id', axis=1)\n",
    "print(df_churn.head(5))"
   ]
  },
  {
   "cell_type": "code",
   "execution_count": 204,
   "id": "c645ac1f-28dc-4b0a-920f-52d5cb0a55e3",
   "metadata": {},
   "outputs": [
    {
     "name": "stdout",
     "output_type": "stream",
     "text": [
      "Totally 2112555 customers\n",
      "Totally 2112555 customers\n",
      "172750 customers churned\n",
      "Totally 1588623 customers\n",
      "128857 customers churned\n"
     ]
    }
   ],
   "source": [
    "df_churn = churn_data_nogeo_all.drop('individual_id', axis=1)\n",
    "print(f\"Totally {df_churn.shape[0]} customers\")\n",
    "\n",
    "# Update days_tenure\n",
    "churn_idx = np.arange(df_churn.shape[0])[df_churn['churn'] == 1]\n",
    "for idx in churn_idx:\n",
    "    Enddate = datetime.strptime(df_churn['acct_suspd_date'][idx], \"%Y-%m-%d\") \n",
    "    Begindate = datetime.strptime(df_churn['cust_orig_date'][idx], \"%Y-%m-%d\") \n",
    "    Birthdate = datetime.strptime(df_churn['date_of_birth'][idx], \"%Y-%m-%d\") \n",
    "    days_int = (Enddate - Begindate).days\n",
    "    years_age = (Enddate - Birthdate).days/365\n",
    "    if days_int > 0:\n",
    "        df_churn.loc[idx, 'days_tenure'] = days_int  \n",
    "        df_churn.loc[idx, 'age_in_years'] = years_age\n",
    "    else:\n",
    "        df_churn.loc[idx, 'churn'] = 0\n",
    "        df_churn.loc[idx, 'acct_suspd_date'] = str(today)\n",
    "\n",
    "print(f\"Totally {df_churn.shape[0]} customers\")\n",
    "print(f\"{df_churn['churn'].sum()} customers churned\")\n",
    "df_churn_v1 = df_churn\n",
    "\n",
    "## OK now first drop all missing values\n",
    "df_churn_v1.dropna(inplace=True)\n",
    "print(f\"Totally {df_churn_v1.shape[0]} customers\")\n",
    "print(f\"{df_churn_v1['churn'].sum()} customers churned\")"
   ]
  },
  {
   "cell_type": "code",
   "execution_count": 205,
   "id": "d7ba3177-1bfd-4aa8-8392-f4f3b5ff96aa",
   "metadata": {},
   "outputs": [
    {
     "name": "stdout",
     "output_type": "stream",
     "text": [
      "Totally 2112555 customers\n",
      "249265 customers churned\n",
      "Totally 2036040 customers\n",
      "172750 customers churned\n"
     ]
    },
    {
     "data": {
      "image/png": "[encoded data removed]",
      "text/plain": [
       "<Figure size 1000x600 with 2 Axes>"
      ]
     },
     "metadata": {},
     "output_type": "display_data"
    }
   ],
   "source": [
    "# Or, drop the customers who churned away and returned\n",
    "df_churn = churn_data_nogeo_all.drop('individual_id', axis=1)\n",
    "print(f\"Totally {df_churn.shape[0]} customers\")\n",
    "\n",
    "# Update days_tenure\n",
    "churn_idx = np.arange(df_churn.shape[0])[df_churn['churn'] == 1]\n",
    "idx_return = []\n",
    "for idx in churn_idx:\n",
    "    Enddate = datetime.strptime(df_churn['acct_suspd_date'][idx], \"%Y-%m-%d\") \n",
    "    Begindate = datetime.strptime(df_churn['cust_orig_date'][idx], \"%Y-%m-%d\") \n",
    "    Birthdate = datetime.strptime(df_churn['date_of_birth'][idx], \"%Y-%m-%d\") \n",
    "    days_int = (Enddate - Begindate).days\n",
    "    years_age = (Enddate - Birthdate).days/365\n",
    "    if days_int > 0:\n",
    "        df_churn.loc[idx, 'days_tenure'] = days_int  \n",
    "        df_churn.loc[idx, 'age_in_years'] = years_age\n",
    "    else:\n",
    "        idx_return.append(idx)\n",
    "\n",
    "print(f\"{df_churn['churn'].sum()} customers churned\")\n",
    "df_churn_v2 = df_churn.drop((idx_return), axis=0)\n",
    "\n",
    "print(f\"Totally {df_churn_v2.shape[0]} customers\")\n",
    "print(f\"{df_churn_v2['churn'].sum()} customers churned\")\n",
    "\n",
    "df_churn_v2.drop(['cust_orig_date', 'date_of_birth', 'acct_suspd_date'], axis=1, inplace=True)\n",
    "\n",
    "# Look at missing data map\n",
    "import seaborn as sns\n",
    "import matplotlib.pyplot as plt\n",
    "\n",
    "# Create a heatmap\n",
    "plt.figure(figsize=(10, 6))\n",
    "sns.heatmap(df_churn_v2.isna(), cmap=\"YlGnBu\", cbar_kws={'label': 'Missing Data'})\n",
    "plt.show()"
   ]
  },
  {
   "cell_type": "code",
   "execution_count": 206,
   "id": "8ff55f28-11ef-4bc7-980b-a666da8c641f",
   "metadata": {},
   "outputs": [],
   "source": [
    "## Now perform feature transformation\n",
    "marital = df_churn_v2['marital_status']\n",
    "df_churn_v2['marital_status'] = marital.map({'Married': 1, 'Single': 0})\n",
    "df_churn_v2['home_market_value'].unique()\n",
    "hp = df_churn_v2['home_market_value']\n",
    "df_churn_v2['home_market_value'] = hp.map({'1000 - 24999': 0, '25000 - 49999': 1, '50000 - 74999': 2, '75000 - 99999': 3, '100000 - 124999': 4,\n",
    "                                           '125000 - 149999': 5, '150000 - 174999': 6, '175000 - 199999': 7, '200000 - 224999': 8,\n",
    "                                           '225000 - 249999': 9, '250000 - 274999': 10, '275000 - 299999': 11, '300000 - 349999': 12,\n",
    "                                           '350000 - 399999': 13, '400000 - 449999': 14, '450000 - 499999': 15, '500000 - 749999': 16,\n",
    "                                           '750000 - 999999': 17, '1000000 Plus': 18})"
   ]
  },
  {
   "cell_type": "code",
   "execution_count": null,
   "id": "05f2eb3c-22cd-4228-9abd-0abbbb965dc0",
   "metadata": {},
   "outputs": [],
   "source": []
  },
  {
   "cell_type": "code",
   "execution_count": 207,
   "id": "08ed2cea-fee3-4525-964c-26045612d9bb",
   "metadata": {},
   "outputs": [
    {
     "name": "stdout",
     "output_type": "stream",
     "text": [
      "Totally 1536120 customers\n",
      "128857 customers churned\n",
      "(1536120, 11)\n",
      "  curr_ann_amt days_tenure age_in_years   income has_children  \\\n",
      "0   818.877997      1454.0           44  22500.0          1.0   \n",
      "1   974.199182      1795.0           72  27500.0          0.0   \n",
      "2   967.375112      4818.0           55  42500.0          0.0   \n",
      "\n",
      "  length_of_residence  marital_status  home_market_value home_owner  \\\n",
      "0                15.0             1.0                2.0        1.0   \n",
      "1                 2.0             0.0                2.0        1.0   \n",
      "2                10.0             1.0                3.0        1.0   \n",
      "\n",
      "  college_degree good_credit  churn  \n",
      "0            1.0         1.0      0  \n",
      "1            0.0         0.0      0  \n",
      "2            0.0         0.0      0  \n",
      "[-8.17320473e-04 -1.65200007e-04 -1.35223145e-02 -6.71502825e-07\n",
      " -6.68195660e-03 -1.20409498e-02  6.58508315e-04 -2.78385676e-02\n",
      " -4.69526978e-03 -2.43259768e-03 -7.01627400e-03] [-0.00989081]\n"
     ]
    },
    {
     "name": "stderr",
     "output_type": "stream",
     "text": [
      "C:\\Users\\hychy\\anaconda3\\Lib\\site-packages\\sklearn\\linear_model\\_logistic.py:469: ConvergenceWarning: lbfgs failed to converge (status=1):\n",
      "STOP: TOTAL NO. of ITERATIONS REACHED LIMIT.\n",
      "\n",
      "Increase the number of iterations (max_iter) or scale the data as shown in:\n",
      "    https://scikit-learn.org/stable/modules/preprocessing.html\n",
      "Please also refer to the documentation for alternative solver options:\n",
      "    https://scikit-learn.org/stable/modules/linear_model.html#logistic-regression\n",
      "  n_iter_i = _check_optimize_result(\n"
     ]
    }
   ],
   "source": [
    "## OK now first drop all missing values\n",
    "df_churn_v2.dropna(inplace=True)\n",
    "print(f\"Totally {df_churn_v2.shape[0]} customers\")\n",
    "print(f\"{df_churn_v2['churn'].sum()} customers churned\")\n",
    "\n",
    "# Final dispositions:\n",
    "log_columns = ['curr_ann_amt', 'days_tenure', 'age_in_years', 'income']\n",
    "\n",
    "from sklearn.linear_model import LogisticRegression\n",
    "from sklearn.model_selection import train_test_split\n",
    "\n",
    "y = df_churn_v2['churn']\n",
    "X = df_churn_v2.drop('churn', axis=1)\n",
    "print(X.shape)\n",
    "X_train, X_test, y_train, y_test = train_test_split(X, y, test_size=0.25, random_state=42)\n",
    "\n",
    "## Build a logistic regression \n",
    "logit = LogisticRegression(penalty='l2', C=100, random_state=42, warm_start=True, verbose=1)\n",
    "logit.fit(X_train, y_train)\n",
    "\n",
    "print(df_churn_v2.head(3))\n",
    "print(logit.coef_[0], logit.intercept_)"
   ]
  },
  {
   "cell_type": "code",
   "execution_count": 227,
   "id": "b7b104c9-2a98-4a4a-8ade-e914f267c795",
   "metadata": {},
   "outputs": [
    {
     "data": {
      "text/plain": [
       "<Axes: ylabel='Frequency'>"
      ]
     },
     "execution_count": 227,
     "metadata": {},
     "output_type": "execute_result"
    },
    {
     "data": {
      "image/png": "[encoded data removed]",
      "text/plain": [
       "<Figure size 640x480 with 1 Axes>"
      ]
     },
     "metadata": {},
     "output_type": "display_data"
    }
   ],
   "source": [
    "df_churn_only = df_churn_v2[df_churn_v2['churn'] == 1]\n",
    "df_churn_only.head(5)\n",
    "df_churn_only['age_in_years'].plot.hist()\n",
    "df_churn_v2['age_in_years'].plot.hist()"
   ]
  },
  {
   "cell_type": "code",
   "execution_count": 168,
   "id": "fbc90e57-7d9b-4d6e-9ae4-a57ede0de74e",
   "metadata": {},
   "outputs": [
    {
     "name": "stderr",
     "output_type": "stream",
     "text": [
      "C:\\Users\\hychy\\anaconda3\\Lib\\site-packages\\statsmodels\\discrete\\discrete_model.py:2385: RuntimeWarning: overflow encountered in exp\n",
      "  return 1/(1+np.exp(-X))\n",
      "C:\\Users\\hychy\\anaconda3\\Lib\\site-packages\\statsmodels\\discrete\\discrete_model.py:2443: RuntimeWarning: divide by zero encountered in log\n",
      "  return np.sum(np.log(self.cdf(q * linpred)))\n"
     ]
    },
    {
     "name": "stdout",
     "output_type": "stream",
     "text": [
      "Optimization terminated successfully    (Exit mode 0)\n",
      "            Current function value: 1.5073551698606837e-08\n",
      "            Iterations: 3\n",
      "            Function evaluations: 24\n",
      "            Gradient evaluations: 3\n"
     ]
    },
    {
     "name": "stderr",
     "output_type": "stream",
     "text": [
      "C:\\Users\\hychy\\anaconda3\\Lib\\site-packages\\statsmodels\\base\\l1_solvers_common.py:71: ConvergenceWarning: QC check did not pass for 6 out of 13 parameters\n",
      "Try increasing solver accuracy or number of iterations, decreasing alpha, or switch solvers\n",
      "  warnings.warn(message, ConvergenceWarning)\n",
      "C:\\Users\\hychy\\anaconda3\\Lib\\site-packages\\statsmodels\\base\\l1_solvers_common.py:144: ConvergenceWarning: Could not trim params automatically due to failed QC check. Trimming using trim_mode == 'size' will still work.\n",
      "  warnings.warn(msg, ConvergenceWarning)\n"
     ]
    },
    {
     "ename": "LinAlgError",
     "evalue": "Singular matrix",
     "output_type": "error",
     "traceback": [
      "\u001b[1;31m---------------------------------------------------------------------------\u001b[0m",
      "\u001b[1;31mLinAlgError\u001b[0m                               Traceback (most recent call last)",
      "Cell \u001b[1;32mIn[168], line 14\u001b[0m\n\u001b[0;32m     12\u001b[0m \u001b[38;5;66;03m#lgt = smfa.logit('', dt_train)\u001b[39;00m\n\u001b[0;32m     13\u001b[0m lgt \u001b[38;5;241m=\u001b[39m sma\u001b[38;5;241m.\u001b[39mLogit(endog_, exog_)\n\u001b[1;32m---> 14\u001b[0m lgt\u001b[38;5;241m.\u001b[39mfit_regularized(method\u001b[38;5;241m=\u001b[39m\u001b[38;5;124m'\u001b[39m\u001b[38;5;124ml1\u001b[39m\u001b[38;5;124m'\u001b[39m, maxiter\u001b[38;5;241m=\u001b[39m\u001b[38;5;124m'\u001b[39m\u001b[38;5;124mdefined_by_method\u001b[39m\u001b[38;5;124m'\u001b[39m, alpha\u001b[38;5;241m=\u001b[39m\u001b[38;5;241m0.01\u001b[39m)\n",
      "File \u001b[1;32m~\\anaconda3\\Lib\\site-packages\\statsmodels\\discrete\\discrete_model.py:565\u001b[0m, in \u001b[0;36mBinaryModel.fit_regularized\u001b[1;34m(self, start_params, method, maxiter, full_output, disp, callback, alpha, trim_mode, auto_trim_tol, size_trim_tol, qc_tol, **kwargs)\u001b[0m\n\u001b[0;32m    557\u001b[0m \u001b[38;5;129m@Appender\u001b[39m(DiscreteModel\u001b[38;5;241m.\u001b[39mfit_regularized\u001b[38;5;241m.\u001b[39m\u001b[38;5;18m__doc__\u001b[39m)\n\u001b[0;32m    558\u001b[0m \u001b[38;5;28;01mdef\u001b[39;00m \u001b[38;5;21mfit_regularized\u001b[39m(\u001b[38;5;28mself\u001b[39m, start_params\u001b[38;5;241m=\u001b[39m\u001b[38;5;28;01mNone\u001b[39;00m, method\u001b[38;5;241m=\u001b[39m\u001b[38;5;124m'\u001b[39m\u001b[38;5;124ml1\u001b[39m\u001b[38;5;124m'\u001b[39m,\n\u001b[0;32m    559\u001b[0m         maxiter\u001b[38;5;241m=\u001b[39m\u001b[38;5;124m'\u001b[39m\u001b[38;5;124mdefined_by_method\u001b[39m\u001b[38;5;124m'\u001b[39m, full_output\u001b[38;5;241m=\u001b[39m\u001b[38;5;241m1\u001b[39m, disp\u001b[38;5;241m=\u001b[39m\u001b[38;5;241m1\u001b[39m, callback\u001b[38;5;241m=\u001b[39m\u001b[38;5;28;01mNone\u001b[39;00m,\n\u001b[0;32m    560\u001b[0m         alpha\u001b[38;5;241m=\u001b[39m\u001b[38;5;241m0\u001b[39m, trim_mode\u001b[38;5;241m=\u001b[39m\u001b[38;5;124m'\u001b[39m\u001b[38;5;124mauto\u001b[39m\u001b[38;5;124m'\u001b[39m, auto_trim_tol\u001b[38;5;241m=\u001b[39m\u001b[38;5;241m0.01\u001b[39m, size_trim_tol\u001b[38;5;241m=\u001b[39m\u001b[38;5;241m1e-4\u001b[39m,\n\u001b[0;32m    561\u001b[0m         qc_tol\u001b[38;5;241m=\u001b[39m\u001b[38;5;241m0.03\u001b[39m, \u001b[38;5;241m*\u001b[39m\u001b[38;5;241m*\u001b[39mkwargs):\n\u001b[0;32m    563\u001b[0m     _validate_l1_method(method)\n\u001b[1;32m--> 565\u001b[0m     bnryfit \u001b[38;5;241m=\u001b[39m \u001b[38;5;28msuper\u001b[39m()\u001b[38;5;241m.\u001b[39mfit_regularized(start_params\u001b[38;5;241m=\u001b[39mstart_params,\n\u001b[0;32m    566\u001b[0m                                       method\u001b[38;5;241m=\u001b[39mmethod,\n\u001b[0;32m    567\u001b[0m                                       maxiter\u001b[38;5;241m=\u001b[39mmaxiter,\n\u001b[0;32m    568\u001b[0m                                       full_output\u001b[38;5;241m=\u001b[39mfull_output,\n\u001b[0;32m    569\u001b[0m                                       disp\u001b[38;5;241m=\u001b[39mdisp,\n\u001b[0;32m    570\u001b[0m                                       callback\u001b[38;5;241m=\u001b[39mcallback,\n\u001b[0;32m    571\u001b[0m                                       alpha\u001b[38;5;241m=\u001b[39malpha,\n\u001b[0;32m    572\u001b[0m                                       trim_mode\u001b[38;5;241m=\u001b[39mtrim_mode,\n\u001b[0;32m    573\u001b[0m                                       auto_trim_tol\u001b[38;5;241m=\u001b[39mauto_trim_tol,\n\u001b[0;32m    574\u001b[0m                                       size_trim_tol\u001b[38;5;241m=\u001b[39msize_trim_tol,\n\u001b[0;32m    575\u001b[0m                                       qc_tol\u001b[38;5;241m=\u001b[39mqc_tol,\n\u001b[0;32m    576\u001b[0m                                       \u001b[38;5;241m*\u001b[39m\u001b[38;5;241m*\u001b[39mkwargs)\n\u001b[0;32m    578\u001b[0m     discretefit \u001b[38;5;241m=\u001b[39m L1BinaryResults(\u001b[38;5;28mself\u001b[39m, bnryfit)\n\u001b[0;32m    579\u001b[0m     \u001b[38;5;28;01mreturn\u001b[39;00m L1BinaryResultsWrapper(discretefit)\n",
      "File \u001b[1;32m~\\anaconda3\\Lib\\site-packages\\statsmodels\\discrete\\discrete_model.py:402\u001b[0m, in \u001b[0;36mDiscreteModel.fit_regularized\u001b[1;34m(self, start_params, method, maxiter, full_output, disp, callback, alpha, trim_mode, auto_trim_tol, size_trim_tol, qc_tol, qc_verbose, **kwargs)\u001b[0m\n\u001b[0;32m    399\u001b[0m \u001b[38;5;28;01melse\u001b[39;00m:\n\u001b[0;32m    400\u001b[0m     \u001b[38;5;28;01mpass\u001b[39;00m  \u001b[38;5;66;03m# make a function factory to have multiple call-backs\u001b[39;00m\n\u001b[1;32m--> 402\u001b[0m mlefit \u001b[38;5;241m=\u001b[39m \u001b[38;5;28msuper\u001b[39m()\u001b[38;5;241m.\u001b[39mfit(start_params\u001b[38;5;241m=\u001b[39mstart_params,\n\u001b[0;32m    403\u001b[0m                      method\u001b[38;5;241m=\u001b[39mmethod,\n\u001b[0;32m    404\u001b[0m                      maxiter\u001b[38;5;241m=\u001b[39mmaxiter,\n\u001b[0;32m    405\u001b[0m                      full_output\u001b[38;5;241m=\u001b[39mfull_output,\n\u001b[0;32m    406\u001b[0m                      disp\u001b[38;5;241m=\u001b[39mdisp,\n\u001b[0;32m    407\u001b[0m                      callback\u001b[38;5;241m=\u001b[39mcallback,\n\u001b[0;32m    408\u001b[0m                      extra_fit_funcs\u001b[38;5;241m=\u001b[39mextra_fit_funcs,\n\u001b[0;32m    409\u001b[0m                      cov_params_func\u001b[38;5;241m=\u001b[39mcov_params_func,\n\u001b[0;32m    410\u001b[0m                      \u001b[38;5;241m*\u001b[39m\u001b[38;5;241m*\u001b[39mkwargs)\n\u001b[0;32m    412\u001b[0m \u001b[38;5;28;01mreturn\u001b[39;00m mlefit\n",
      "File \u001b[1;32m~\\anaconda3\\Lib\\site-packages\\statsmodels\\base\\model.py:580\u001b[0m, in \u001b[0;36mLikelihoodModel.fit\u001b[1;34m(self, start_params, method, maxiter, full_output, disp, fargs, callback, retall, skip_hessian, **kwargs)\u001b[0m\n\u001b[0;32m    578\u001b[0m cov_params_func \u001b[38;5;241m=\u001b[39m kwargs\u001b[38;5;241m.\u001b[39msetdefault(\u001b[38;5;124m'\u001b[39m\u001b[38;5;124mcov_params_func\u001b[39m\u001b[38;5;124m'\u001b[39m, \u001b[38;5;28;01mNone\u001b[39;00m)\n\u001b[0;32m    579\u001b[0m \u001b[38;5;28;01mif\u001b[39;00m cov_params_func:\n\u001b[1;32m--> 580\u001b[0m     Hinv \u001b[38;5;241m=\u001b[39m cov_params_func(\u001b[38;5;28mself\u001b[39m, xopt, retvals)\n\u001b[0;32m    581\u001b[0m \u001b[38;5;28;01melif\u001b[39;00m method \u001b[38;5;241m==\u001b[39m \u001b[38;5;124m'\u001b[39m\u001b[38;5;124mnewton\u001b[39m\u001b[38;5;124m'\u001b[39m \u001b[38;5;129;01mand\u001b[39;00m full_output:\n\u001b[0;32m    582\u001b[0m     Hinv \u001b[38;5;241m=\u001b[39m np\u001b[38;5;241m.\u001b[39mlinalg\u001b[38;5;241m.\u001b[39minv(\u001b[38;5;241m-\u001b[39mretvals[\u001b[38;5;124m'\u001b[39m\u001b[38;5;124mHessian\u001b[39m\u001b[38;5;124m'\u001b[39m]) \u001b[38;5;241m/\u001b[39m nobs\n",
      "File \u001b[1;32m~\\anaconda3\\Lib\\site-packages\\statsmodels\\discrete\\discrete_model.py:430\u001b[0m, in \u001b[0;36mDiscreteModel.cov_params_func_l1\u001b[1;34m(self, likelihood_model, xopt, retvals)\u001b[0m\n\u001b[0;32m    428\u001b[0m     H_restricted \u001b[38;5;241m=\u001b[39m H[nz_idx[:, \u001b[38;5;28;01mNone\u001b[39;00m], nz_idx]\n\u001b[0;32m    429\u001b[0m     \u001b[38;5;66;03m# Covariance estimate for the nonzero params\u001b[39;00m\n\u001b[1;32m--> 430\u001b[0m     H_restricted_inv \u001b[38;5;241m=\u001b[39m np\u001b[38;5;241m.\u001b[39mlinalg\u001b[38;5;241m.\u001b[39minv(\u001b[38;5;241m-\u001b[39mH_restricted)\n\u001b[0;32m    431\u001b[0m \u001b[38;5;28;01melse\u001b[39;00m:\n\u001b[0;32m    432\u001b[0m     H_restricted_inv \u001b[38;5;241m=\u001b[39m np\u001b[38;5;241m.\u001b[39mzeros(\u001b[38;5;241m0\u001b[39m)\n",
      "File \u001b[1;32m~\\anaconda3\\Lib\\site-packages\\numpy\\linalg\\linalg.py:561\u001b[0m, in \u001b[0;36minv\u001b[1;34m(a)\u001b[0m\n\u001b[0;32m    559\u001b[0m signature \u001b[38;5;241m=\u001b[39m \u001b[38;5;124m'\u001b[39m\u001b[38;5;124mD->D\u001b[39m\u001b[38;5;124m'\u001b[39m \u001b[38;5;28;01mif\u001b[39;00m isComplexType(t) \u001b[38;5;28;01melse\u001b[39;00m \u001b[38;5;124m'\u001b[39m\u001b[38;5;124md->d\u001b[39m\u001b[38;5;124m'\u001b[39m\n\u001b[0;32m    560\u001b[0m extobj \u001b[38;5;241m=\u001b[39m get_linalg_error_extobj(_raise_linalgerror_singular)\n\u001b[1;32m--> 561\u001b[0m ainv \u001b[38;5;241m=\u001b[39m _umath_linalg\u001b[38;5;241m.\u001b[39minv(a, signature\u001b[38;5;241m=\u001b[39msignature, extobj\u001b[38;5;241m=\u001b[39mextobj)\n\u001b[0;32m    562\u001b[0m \u001b[38;5;28;01mreturn\u001b[39;00m wrap(ainv\u001b[38;5;241m.\u001b[39mastype(result_t, copy\u001b[38;5;241m=\u001b[39m\u001b[38;5;28;01mFalse\u001b[39;00m))\n",
      "File \u001b[1;32m~\\anaconda3\\Lib\\site-packages\\numpy\\linalg\\linalg.py:112\u001b[0m, in \u001b[0;36m_raise_linalgerror_singular\u001b[1;34m(err, flag)\u001b[0m\n\u001b[0;32m    111\u001b[0m \u001b[38;5;28;01mdef\u001b[39;00m \u001b[38;5;21m_raise_linalgerror_singular\u001b[39m(err, flag):\n\u001b[1;32m--> 112\u001b[0m     \u001b[38;5;28;01mraise\u001b[39;00m LinAlgError(\u001b[38;5;124m\"\u001b[39m\u001b[38;5;124mSingular matrix\u001b[39m\u001b[38;5;124m\"\u001b[39m)\n",
      "\u001b[1;31mLinAlgError\u001b[0m: Singular matrix"
     ]
    }
   ],
   "source": [
    "## Now use statsmodels to do the regression\n",
    "import statsmodels as sm\n",
    "import statsmodels.api as sma\n",
    "import statsmodels.formula.api as smfa\n",
    "\n",
    "endog_ = y_train.to_numpy(np.float32)\n",
    "exog_ = sma.add_constant(X_train.to_numpy(np.float32))\n",
    "\n",
    "dt_train = X_train\n",
    "dt_train['churn'] = y_train\n",
    "\n",
    "#lgt = smfa.logit('', dt_train)\n",
    "lgt = sma.Logit(endog_, exog_)\n",
    "lgt.fit_regularized(method='l1', maxiter='defined_by_method', alpha=0.01)"
   ]
  },
  {
   "cell_type": "code",
   "execution_count": null,
   "id": "f215379b-968c-4743-a1b0-77c63fd1c4dc",
   "metadata": {},
   "outputs": [],
   "source": []
  }
 ],
 "metadata": {
  "kernelspec": {
   "display_name": "Python 3 (ipykernel)",
   "language": "python",
   "name": "python3"
  },
  "language_info": {
   "codemirror_mode": {
    "name": "ipython",
    "version": 3
   },
   "file_extension": ".py",
   "mimetype": "text/x-python",
   "name": "python",
   "nbconvert_exporter": "python",
   "pygments_lexer": "ipython3",
   "version": "3.12.4"
  }
 },
 "nbformat": 4,
 "nbformat_minor": 5
}
