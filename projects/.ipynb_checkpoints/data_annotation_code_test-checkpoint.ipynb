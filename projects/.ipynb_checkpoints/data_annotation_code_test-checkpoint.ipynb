{
 "cells": [
  {
   "cell_type": "code",
   "execution_count": 52,
   "id": "23a7403c-80ef-4e91-8bd2-16fcc182b92e",
   "metadata": {},
   "outputs": [
    {
     "name": "stdout",
     "output_type": "stream",
     "text": [
      "['x-coordinate', 'Character', 'y-coordinate']\n"
     ]
    }
   ],
   "source": [
    "from bs4 import BeautifulSoup\n",
    "import requests\n",
    "\n",
    "import pandas as pd\n",
    "import numpy as np\n",
    "import re\n",
    "\n",
    "# Create a Response object from a url\n",
    "url = 'https://docs.google.com/document/d/e/2PACX-1vRMx5YQlZNa3ra8dYYxmv-QIQ3YJe8tbI3kqcuC7lQiZm-CSEznKfN_HYNSpoXcZIV3Y_O3YoUB1ecq/pub'\n",
    "r = requests.get(url)\n",
    "\n",
    "# Get HTML data\n",
    "html_data = r.text\n",
    "\n",
    "# Create a BeautifulSoup Object\n",
    "page_content = BeautifulSoup(html_data, 'html.parser')\n",
    "page_c = page_content.table.prettify()\n",
    "\n",
    "# Find the table\n",
    "lettertable = page_content.table\n",
    "\n",
    "columnnames = lettertable.findAll('tr')[0].findAll('td')\n",
    "header = []\n",
    "for cname in columnnames:\n",
    "    header.append(cname.get_text())\n",
    "print(header)"
   ]
  },
  {
   "cell_type": "code",
   "execution_count": null,
   "id": "631cfbb0-0859-4fb8-a29c-653a38b0290f",
   "metadata": {},
   "outputs": [],
   "source": []
  }
 ],
 "metadata": {
  "kernelspec": {
   "display_name": "Python 3 (ipykernel)",
   "language": "python",
   "name": "python3"
  },
  "language_info": {
   "codemirror_mode": {
    "name": "ipython",
    "version": 3
   },
   "file_extension": ".py",
   "mimetype": "text/x-python",
   "name": "python",
   "nbconvert_exporter": "python",
   "pygments_lexer": "ipython3",
   "version": "3.12.4"
  }
 },
 "nbformat": 4,
 "nbformat_minor": 5
}
