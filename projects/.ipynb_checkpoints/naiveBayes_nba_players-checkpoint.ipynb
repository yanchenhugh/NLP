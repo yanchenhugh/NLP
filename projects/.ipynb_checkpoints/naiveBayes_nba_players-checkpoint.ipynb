{
 "cells": [
  {
   "cell_type": "code",
   "execution_count": null,
   "id": "62dbd069-72c9-43f0-945c-730222b2ca15",
   "metadata": {},
   "outputs": [],
   "source": [
    "import numpy as np\n",
    "import pandas as pd\n",
    "import matplotlib.pyplot as plt\n",
    "from sklearn import metrics\n",
    "from sklearn.metrics import ConfusionMatrixDisplay, confusion_matrix\n",
    "from sklearn.metrics import recall_score, precision_score, f1_score, accuracy_score\n",
    "from sklearn.model_selection import train_test_split\n",
    "from sklearn.tree import DecisionTreeClassifier\n",
    "\n",
    "datapath = '../data/'"
   ]
  },
  {
   "cell_type": "code",
   "execution_count": null,
   "id": "d7c43a09-8e06-4ec7-b690-897962af44ca",
   "metadata": {},
   "outputs": [],
   "source": [
    "## Apply Naive Bayes (NB) classifier to analyze nba player stats\n",
    "\n",
    "# RUN THIS CELL TO IMPORT the extracted NBA player stats DATA.\n",
    "# Load extracted_nba_players_data.csv into a DataFrame called extracted_data.\n",
    "extracted_data = pd.read_csv(datapath + 'extracted_nba_players_data.csv')\n",
    "\n",
    "# Display the first 10 rows of data.\n",
    "extracted_data.head(10)\n",
    "\n",
    "# Define the y (target) variable.\n",
    "y = extracted_data[\"target_5yrs\"]\n",
    "\n",
    "# Define the X (predictor) variables.\n",
    "X = extracted_data.drop([\"target_5yrs\"],axis=1)\n",
    "\n",
    "# First split data into training data and testing data\n",
    "X_train, X_test, y_train, y_test = model_selection.train_test_split(X, y, test_size=0.25, random_state=0)\n",
    "\n",
    "# Gaussian NB, when all features are continuous\n",
    "gnb = naive_bayes.GaussianNB()\n",
    "\n",
    "# Fit the model on your training data.\n",
    "gnb_fit = nb.fit(X_train, y_train)\n",
    "\n",
    "# Apply your model to predict on your test data. Call this \"y_pred\".\n",
    "y_pred = gnb_fit.predict(X_test)\n",
    "\n",
    "# evaluating metrics\n",
    "accuracy = metrics.accuracy_score(y_test, y_pred)\n",
    "precision = metrics.precision_score(y_test, y_pred)\n",
    "recall = metrics.recall_score(y_test, y_pred)\n",
    "f1 = metrics.f1_score(y_test, y_pred)\n",
    "\n",
    "# plot confusion matrix\n",
    "confusion_mat = metrics.confusion_matrix(y_test, y_pred)\n",
    "\n",
    "# Create the display for your confusion matrix.\n",
    "disp = metrics.ConfusionMatrixDisplay(confusion_matrix=confusion_mat, display_labels=gnb.classes_)\n",
    "\n",
    "# Plot the visual in-line.\n",
    "disp.plot()"
   ]
  }
 ],
 "metadata": {
  "kernelspec": {
   "display_name": "Python 3 (ipykernel)",
   "language": "python",
   "name": "python3"
  },
  "language_info": {
   "codemirror_mode": {
    "name": "ipython",
    "version": 3
   },
   "file_extension": ".py",
   "mimetype": "text/x-python",
   "name": "python",
   "nbconvert_exporter": "python",
   "pygments_lexer": "ipython3",
   "version": "3.12.4"
  }
 },
 "nbformat": 4,
 "nbformat_minor": 5
}
