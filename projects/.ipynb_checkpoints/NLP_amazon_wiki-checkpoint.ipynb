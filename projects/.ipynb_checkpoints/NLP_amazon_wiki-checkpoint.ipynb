{
 "cells": [
  {
   "cell_type": "code",
   "execution_count": null,
   "id": "f47f8f36-b138-48e5-8c36-1056ab8df421",
   "metadata": {},
   "outputs": [],
   "source": [
    "import sys\n",
    "\n",
    "sys.path.insert(0, '..')\n",
    "\n",
    "from ProcessText import pattern_replace\n",
    "\n",
    "# request and process/parse html text from the webpages\n",
    "# Example 1: Amazon wikipage: https://en.wikipedia.org/wiki/Amazon_(company)\n",
    "from bs4 import BeautifulSoup\n",
    "import requests\n",
    "\n",
    "import pandas as pd\n",
    "import numpy as np\n",
    "import re\n",
    "\n",
    "# Create a Response object\n",
    "r = requests.get('https://en.wikipedia.org/wiki/Amazon_(company)')\n",
    "\n",
    "# Get HTML data\n",
    "html_data = r.text\n",
    "\n",
    "# Create a BeautifulSoup Object\n",
    "page_content = BeautifulSoup(html_data,'html.parser')\n",
    "\n",
    "# Find financial table\n",
    "wikitable = page_content.find('table', {'class': 'wikitable float-left'})\n",
    "\n",
    "# Find all column titles\n",
    "wikicolumns = wikitable.tbody.findAll('tr')[0].findAll('th')\n",
    "\n",
    "# Loop through column titles and store into Python array\n",
    "df_columns = []\n",
    "for tag in wikicolumns:\n",
    "    txt = tag.get_text(strip=True, separator=\" \")\n",
    "    df_columns.append(pattern_replace('\\[.+\\]','',txt))\n",
    "print(df_columns)\n",
    "\n",
    "# Loop through the data rows and store into Python array\n",
    "df_data = []\n",
    "for row in wikitable.tbody.findAll('tr')[1:]:\n",
    "    row_data = []\n",
    "    for td in row.findAll('td'):\n",
    "        txt = td.get_text(strip=True, separator=\" \")\n",
    "        row_data.append(pattern_replace('\\[.+\\]','',txt))\n",
    "    df_data.append(np.array(row_data))\n",
    "\n",
    "# Print financial data in DataFrame format and set `Year` as index\n",
    "dataframe = pd.DataFrame(data=df_data, columns=df_columns)\n",
    "dataframe.set_index('Year', inplace=True)\n",
    "dataframe\n"
   ]
  }
 ],
 "metadata": {
  "kernelspec": {
   "display_name": "Python 3 (ipykernel)",
   "language": "python",
   "name": "python3"
  },
  "language_info": {
   "codemirror_mode": {
    "name": "ipython",
    "version": 3
   },
   "file_extension": ".py",
   "mimetype": "text/x-python",
   "name": "python",
   "nbconvert_exporter": "python",
   "pygments_lexer": "ipython3",
   "version": "3.12.4"
  }
 },
 "nbformat": 4,
 "nbformat_minor": 5
}
