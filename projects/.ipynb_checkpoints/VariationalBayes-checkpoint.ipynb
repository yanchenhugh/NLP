{
 "cells": [
  {
   "cell_type": "code",
   "execution_count": 1,
   "id": "6032190b-4559-4f46-b311-f965b3789293",
   "metadata": {},
   "outputs": [
    {
     "name": "stdout",
     "output_type": "stream",
     "text": [
      "updated param vec:\n",
      "4.621339950372208 4.188585607940446 6.0 527.5\n",
      "tol: 539.9327543424317\n",
      "updated param vec:\n",
      "7.19677034686643 2.0645193015534598 6.0 166.95686753812907\n",
      "tol: 365.24262916475215\n",
      "updated param vec:\n",
      "8.642975126055148 0.8717730919132796 6.0 58.70338998940343\n",
      "tol: 110.89242853755454\n",
      "updated param vec:\n",
      "9.18351575667714 0.42596638624565825 6.0 26.995373380257035\n",
      "tol: 32.69436394543601\n",
      "updated param vec:\n",
      "9.302444309681693 0.3278809817058192 6.0 20.513611799232194\n",
      "tol: 6.698775538569233\n",
      "updated param vec:\n",
      "9.321700953554226 0.31199921356352517 6.0 19.47965754305136\n",
      "tol: 1.069092668195661\n",
      "updated param vec:\n",
      "9.324577980854448 0.3096264075427244 6.0 19.325546910526555\n",
      "tol: 0.15936046584582825\n",
      "updated param vec:\n",
      "9.325002027501792 0.3092766783490363 6.0 19.302840500010234\n",
      "tol: 0.023480186357353328\n",
      "updated param vec:\n",
      "9.325064400517 0.3092252366870109 6.0 19.299500788633964\n",
      "tol: 0.003453526053503575\n",
      "updated param vec:\n",
      "9.325073572200145 0.30921767241225284 6.0 19.299009702233434\n",
      "tol: 0.0005078223584322195\n",
      "updated param vec:\n",
      "9.325074920796878 0.3092165601675243 6.0 19.29893749337515\n",
      "tol: 7.466969974623261e-05\n",
      "updated param vec:\n",
      "9.325075119092139 0.3092163966250398 6.0 19.298926875914958\n",
      "tol: 1.0979297936641874e-05\n",
      "updated param vec:\n",
      "9.325075148249093 0.30921637257806805 6.0 19.29892531474411\n",
      "tol: 1.6143747736396818e-06\n",
      "9.325075148249093\n"
     ]
    }
   ],
   "source": [
    "### This notebook follows the manual for variational Bayes/inference: \n",
    "\n",
    "import numpy as np\n",
    "\n",
    "## Example 1: MFVB for simple normal distribution, y~N(\\mu,\\sigma^2)\n",
    "y = np.array([11, 12, 8, 10, 9, 8, 9, 10, 13, 7])\n",
    "sumy2 = np.sum(np.multiply(y,y))\n",
    "\n",
    "mu0 = 0\n",
    "sig0 = 10\n",
    "v0 = sig0^2\n",
    "alf0 = 1\n",
    "bet0 = 1\n",
    "\n",
    "n = len(y)\n",
    "ybar = np.mean(y)\n",
    "\n",
    "# Initialize mu and sig2\n",
    "muq = mu0\n",
    "vq = v0\n",
    "muq1 = muq\n",
    "vq1 = vq\n",
    "alfq1 = alf0\n",
    "betq1 = bet0\n",
    "epsi = 1e-5\n",
    "tol = 1\n",
    "\n",
    "while tol >= epsi:\n",
    "    alfq = alf0 + n/2\n",
    "    betq = bet0 + 0.5*sumy2 - n*ybar*muq + n*(np.square(muq)+vq)/2\n",
    "    muq = (mu0/v0+n*ybar*alfq/betq)/(1/v0+n*alfq/betq)\n",
    "    vq = 1/(1/v0 + n*alfq/betq)\n",
    "    \n",
    "    tolvec = np.array([muq1, vq1, alfq1, betq1]) - np.array([muq, vq, alfq, betq]) \n",
    "    tol = np.sum(abs(tolvec))\n",
    "    print('updated param vec:')\n",
    "    print(muq,vq,alfq,betq)\n",
    "    print('tol: ' + str(tol))\n",
    "\n",
    "    muq1 = muq\n",
    "    vq1 = vq\n",
    "    alfq1 = alfq\n",
    "    betq1 = betq\n",
    "\n",
    "print(muq)\n",
    "\n",
    "## Example 2: MFVB for Bayesian Lasso Regression"
   ]
  },
  {
   "cell_type": "code",
   "execution_count": 17,
   "id": "2e5b27fe-6c5e-4d69-89ab-091abb248826",
   "metadata": {},
   "outputs": [
    {
     "name": "stdout",
     "output_type": "stream",
     "text": [
      "973\n"
     ]
    }
   ],
   "source": [
    "print(np.sum(np.multiply(y,y)))"
   ]
  },
  {
   "cell_type": "code",
   "execution_count": null,
   "id": "3a7cb07c-d623-4160-b3e0-9096827be625",
   "metadata": {},
   "outputs": [],
   "source": []
  }
 ],
 "metadata": {
  "kernelspec": {
   "display_name": "Python 3 (ipykernel)",
   "language": "python",
   "name": "python3"
  },
  "language_info": {
   "codemirror_mode": {
    "name": "ipython",
    "version": 3
   },
   "file_extension": ".py",
   "mimetype": "text/x-python",
   "name": "python",
   "nbconvert_exporter": "python",
   "pygments_lexer": "ipython3",
   "version": "3.12.4"
  }
 },
 "nbformat": 4,
 "nbformat_minor": 5
}
